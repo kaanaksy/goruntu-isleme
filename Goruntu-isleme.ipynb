{
 "cells": [
  {
   "cell_type": "code",
   "execution_count": 6,
   "id": "0977464b-45f2-4ee7-b47c-6b136308869a",
   "metadata": {
    "tags": []
   },
   "outputs": [],
   "source": [
    "import cv2\n",
    "\n",
    "def onChange(x):\n",
    "    # print(x)\n",
    "    pass\n",
    "\n",
    "cap = cv2.VideoCapture(0) # capture kısaltması cap\n",
    "cv2.namedWindow(\"openCV UI\", cv2.WINDOW_NORMAL)\n",
    "# trackbar oluşturma: kullanıcı arayüzüne ya da kullanıcının bir değişkene değer atamasını sağlar\n",
    "cv2.createTrackbar(\"Brightness\", \"openCV UI\", 0,100,onChange) # 0 ile 100 aralığında Brightness trackbarı oluşturduk ve onchange yani değiştirilebilir yaptık\n",
    "cv2.createTrackbar(\"Contrast\", \"openCV UI\", 0,100,onChange)\n",
    "\n",
    "while(True):\n",
    "    ret,frame=cap.read() # ret=region of interest. Resimdeki belirlediğimiz alanda farklı işlemler yapılabileceğini söylüyor. frame ile de çerçeve oluşturuyoruz\n",
    "    # trackbarın değerlerini oluşturma\n",
    "    brightness=cv2.getTrackbarPos(\"Brightness\", \"openCV UI\")\n",
    "    contrast=(cv2.getTrackbarPos(\"Contrast\", \"openCV UI\")/100)+1\n",
    "    # trackbar değerlerinin(contrast ve brightness) değiştirilebilmesi\n",
    "        # alpha ve beta yeniden boyutlandırma işlevini sağlar\n",
    "        # scaleAbs videoyu/görseldeki pikselleri yeniden boyutlandırıp bu pikselleri 8 bitlik tamsayı değerlere dönüştürür.\n",
    "    frame=cv2.convertScaleAbs(frame, alpha=contrast, beta=brightness)\n",
    "    # ekranda görüntüleme\n",
    "        #imshow: imageshow kısaltması\n",
    "    color=0x7F3A5D    \n",
    "    cv2.imshow(\"openCV UI\", frame)\n",
    "        # 1: 1 sn bekleme süresi demek. 0xFF renk tonunu 8 bitlik sınırlamaya alma, ord(\"q\"): q tuşuyla ekran kapanır\n",
    "    if cv2.waitKey(1)&0xFF == ord(\"q\"): \n",
    "        break\n",
    "\n",
    "cap.release() # VideoCapture nesnesinin nasıl kullanılacağını belirtir. Bilgisayarımızdaki nesneleri kullanabilmemizi sağlar.\n",
    "cv2.destroyAllWindows() # oluşturulan video çerçeve ekrana yerleştirme"
   ]
  },
  {
   "cell_type": "markdown",
   "id": "2c42ef6b-3046-4004-bfe1-26c6dc3d553f",
   "metadata": {},
   "source": [
    "Plaka tanıma sistemi, yüz tanıma sistemi, resimdeki nesneleri sayma, resimde kaç kişi var, resim gerçek mi fake mi gibi uygulamalar için kullanılabilir."
   ]
  },
  {
   "cell_type": "code",
   "execution_count": 1,
   "id": "fc394f5d-75ee-4b6e-82d5-adab41020f9a",
   "metadata": {
    "tags": []
   },
   "outputs": [],
   "source": [
    "import cv2\n",
    "import numpy as np\n",
    "\n",
    "cap = cv2.VideoCapture(0)\n",
    "while(True):\n",
    "    ret, frame=cap.read()\n",
    "    gray=cv2.cvtColor(frame, cv2.COLOR_BGR2GRAY) # çerçevenin içindeki renkleri gri tona çevirme\n",
    "    gray=cv2.medianBlur(gray,5) # grinin blurlanma tonunu belirliyoruz.\n",
    "    # görüntüyü piksel piksel algılama/bölümleme\n",
    "    rows=gray.shape[0]\n",
    "    # görseldeki daireleri bul\n",
    "        # param1,2=çemberin kenarlarını belirten değerler. rows/8= ekranı 8 eşit piksele böler\n",
    "    circles=cv2.HoughCircles(gray,cv2.HOUGH_GRADIENT, 1, rows/8, param1=100, param2=30, minRadius=1, maxRadius=30)\n",
    "    # çemberi bulma ve çizdirme\n",
    "    if circles is not None:\n",
    "            # circles nesnesini uint16 ile bir tamsayı değerine dönüştürüyoruz.\n",
    "            # np.around ile circles nesnesinin ondalık sayı değerlerini en yakın tam sayıa dönüştürür\n",
    "            # sonuç olarak circles nesnesine koordinatları tamsayı olan bir daire ifadesi atanmış oldu.\n",
    "        circles = np.uint16(np.around(circles)) \n",
    "        for i in circles[0,:]: # nesnenin sadece büyüklüğü kadar bir daire çizmesi için merkez koordinatları belirliyoruz\n",
    "            center = (i[0], i[1])\n",
    "            # dairenin merkezi\n",
    "                # frame içinde center var o da yukarıda belirtilmişti.\n",
    "                # 1=yarı çap, (0,100,100)=çemberin rengi yani rgb formatında değil de bgr formatında, 3=çemberin kalınlığı\n",
    "            cv2.circle(frame, center, 1, (0,100,100), 3)\n",
    "            # dairenin dış halkası\n",
    "            radius=i[2]\n",
    "            cv2.circle(frame, center, radius, (255,0,255), 3)\n",
    "    #ekranı oluşturma\n",
    "        # imshow() içerisine 2 parametre alır. birincisi isim ikincisi de görüntülenecek olan nesne\n",
    "    cv2.imshow(\"frame1\", frame)\n",
    "    if cv2.waitKey(1) & 0xFF == ord(\"q\"): # q tuşuna basınca programdan çıksın\n",
    "        break\n",
    "\n",
    "cap.release() # VideoCapture nesnesini kullanmamızı sağlar\n",
    "cv2.destroyAllWindows()"
   ]
  }
 ],
 "metadata": {
  "kernelspec": {
   "display_name": "Python 3 (ipykernel)",
   "language": "python",
   "name": "python3"
  },
  "language_info": {
   "codemirror_mode": {
    "name": "ipython",
    "version": 3
   },
   "file_extension": ".py",
   "mimetype": "text/x-python",
   "name": "python",
   "nbconvert_exporter": "python",
   "pygments_lexer": "ipython3",
   "version": "3.11.3"
  }
 },
 "nbformat": 4,
 "nbformat_minor": 5
}
